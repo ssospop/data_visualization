{
 "cells": [
  {
   "cell_type": "code",
   "execution_count": 1,
   "metadata": {},
   "outputs": [],
   "source": [
    "import numpy as np"
   ]
  },
  {
   "cell_type": "code",
   "execution_count": 3,
   "metadata": {},
   "outputs": [],
   "source": [
    "# file 읽기 / numpy에 array 형태로 메모리에 저장됨\n",
    "data = np.loadtxt(\"C:/Users/SSO/python_data/data\\movielens_1m/ratings.dat\", delimiter=\"::\", dtype=np.int64)"
   ]
  },
  {
   "cell_type": "code",
   "execution_count": 5,
   "metadata": {},
   "outputs": [
    {
     "data": {
      "text/plain": [
       "array([[        1,      1193,         5, 978300760],\n",
       "       [        1,       661,         3, 978302109],\n",
       "       [        1,       914,         3, 978301968],\n",
       "       [        1,      3408,         4, 978300275],\n",
       "       [        1,      2355,         5, 978824291]], dtype=int64)"
      ]
     },
     "execution_count": 5,
     "metadata": {},
     "output_type": "execute_result"
    }
   ],
   "source": [
    "# data에 저장된 맨 앞 5개 정도 미리 확인\n",
    "data[:5, :]"
   ]
  },
  {
   "cell_type": "code",
   "execution_count": 7,
   "metadata": {},
   "outputs": [
    {
     "data": {
      "text/plain": [
       "(1000209, 4)"
      ]
     },
     "execution_count": 7,
     "metadata": {},
     "output_type": "execute_result"
    }
   ],
   "source": [
    "# data를 잘 읽어들였나 확인\n",
    "data.shape"
   ]
  },
  {
   "cell_type": "code",
   "execution_count": 10,
   "metadata": {},
   "outputs": [],
   "source": [
    "# 전체 평균 평점 계산하기 / data는 전체에서 rating이 위치한 2열만 추출 / \n",
    "mean_rating_total = data[:,2].mean()"
   ]
  },
  {
   "cell_type": "code",
   "execution_count": 12,
   "metadata": {},
   "outputs": [
    {
     "data": {
      "text/plain": [
       "3.581564453029317"
      ]
     },
     "execution_count": 12,
     "metadata": {},
     "output_type": "execute_result"
    }
   ],
   "source": [
    "# 전체 평균 평점\n",
    "mean_rating_total"
   ]
  },
  {
   "cell_type": "code",
   "execution_count": 13,
   "metadata": {},
   "outputs": [],
   "source": [
    "# 각사용자별 평균 평점 계산 \n",
    "# 중복 되있을 user id를 한번씩 뽑기 위해서는 unique한 id들 뽑기 함수 사용 / user id는 첫번째 열에 위치\n",
    "user_ids = np.unique(data[:,0])"
   ]
  },
  {
   "cell_type": "code",
   "execution_count": 14,
   "metadata": {},
   "outputs": [
    {
     "data": {
      "text/plain": [
       "array([1, 2, 3, 4, 5], dtype=int64)"
      ]
     },
     "execution_count": 14,
     "metadata": {},
     "output_type": "execute_result"
    }
   ],
   "source": [
    "user_ids[:5]"
   ]
  },
  {
   "cell_type": "code",
   "execution_count": 15,
   "metadata": {},
   "outputs": [
    {
     "data": {
      "text/plain": [
       "(6040,)"
      ]
     },
     "execution_count": 15,
     "metadata": {},
     "output_type": "execute_result"
    }
   ],
   "source": [
    "user_ids.shape"
   ]
  },
  {
   "cell_type": "code",
   "execution_count": 21,
   "metadata": {},
   "outputs": [],
   "source": [
    "# 빈 list 만들기\n",
    "mean_rating_by_user_list = []\n",
    "# for문 활용해 같은 user id로 boolean 생성해 행을 다 추출하고 그 때 2번째 열의 rating의 평균을 구해준다 \n",
    "for user_id in user_ids:\n",
    "    data_for_user = data[data[:, 0] == user_id, :] # user_id 와 data의 0번째 열에 위치한 값이 같을 때 행들을 죄다 추출\n",
    "    mean_rating_for_user = data_for_user[:,2].mean() # 추출된 data_for_user행들의 2번째인 rating값의 평균을 구한다\n",
    "    mean_rating_by_user_list.append([user_id, mean_rating_for_user]) # []2개의 성분로 구성된 list를 만들어 준다"
   ]
  },
  {
   "cell_type": "code",
   "execution_count": 34,
   "metadata": {},
   "outputs": [
    {
     "data": {
      "text/plain": [
       "array([[1.       , 4.188679 ],\n",
       "       [2.       , 3.7131784],\n",
       "       [3.       , 3.9019608],\n",
       "       [4.       , 4.1904764],\n",
       "       [5.       , 3.1464646]], dtype=float32)"
      ]
     },
     "execution_count": 34,
     "metadata": {},
     "output_type": "execute_result"
    }
   ],
   "source": [
    "# 잘 되었나 확인  / user_id , 평균 평점\n",
    "mean_rating_by_user_list[:5]"
   ]
  },
  {
   "cell_type": "code",
   "execution_count": 45,
   "metadata": {},
   "outputs": [],
   "source": [
    "# array 함수 사용, 관리하기 쉽게 2차원 list를  array함수를 사용해 array로 변환\n",
    "mean_rating_by_user_array = np.array(mean_rating_by_user_list, dtype=np.float32)"
   ]
  },
  {
   "cell_type": "code",
   "execution_count": 46,
   "metadata": {},
   "outputs": [
    {
     "data": {
      "text/plain": [
       "array([[1.       , 4.188679 ],\n",
       "       [2.       , 3.7131784],\n",
       "       [3.       , 3.9019608],\n",
       "       [4.       , 4.1904764],\n",
       "       [5.       , 3.1464646]], dtype=float32)"
      ]
     },
     "execution_count": 46,
     "metadata": {},
     "output_type": "execute_result"
    }
   ],
   "source": [
    "mean_rating_by_user_array[:5]"
   ]
  },
  {
   "cell_type": "code",
   "execution_count": 47,
   "metadata": {},
   "outputs": [
    {
     "data": {
      "text/plain": [
       "(6040, 2)"
      ]
     },
     "execution_count": 47,
     "metadata": {},
     "output_type": "execute_result"
    }
   ],
   "source": [
    "# 2차원 array 확인\n",
    "mean_rating_by_user_array.shape"
   ]
  },
  {
   "cell_type": "code",
   "execution_count": 50,
   "metadata": {},
   "outputs": [],
   "source": [
    "# 외부 파일로 사용하기 위해 저장 (\"파일이름\", 저장에 사용할 array, fmt형태, 구분자)\n",
    "np.savetxt(\"mean_rating_by_user.csv\", mean_rating_by_user_array, fmt=\"%.3f\", delimiter=\",\")"
   ]
  }
 ],
 "metadata": {
  "kernelspec": {
   "display_name": "Python 3",
   "language": "python",
   "name": "python3"
  },
  "language_info": {
   "codemirror_mode": {
    "name": "ipython",
    "version": 3
   },
   "file_extension": ".py",
   "mimetype": "text/x-python",
   "name": "python",
   "nbconvert_exporter": "python",
   "pygments_lexer": "ipython3",
   "version": "3.7.3"
  }
 },
 "nbformat": 4,
 "nbformat_minor": 2
}
