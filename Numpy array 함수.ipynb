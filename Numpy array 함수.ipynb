{
 "cells": [
  {
   "cell_type": "code",
   "execution_count": 1,
   "metadata": {},
   "outputs": [],
   "source": [
    "# numpy 패키지 import\n",
    "import numpy as np"
   ]
  },
  {
   "cell_type": "code",
   "execution_count": 2,
   "metadata": {},
   "outputs": [],
   "source": [
    "arr = np.arange(1,10)"
   ]
  },
  {
   "cell_type": "code",
   "execution_count": 3,
   "metadata": {},
   "outputs": [
    {
     "data": {
      "text/plain": [
       "array([1, 2, 3, 4, 5, 6, 7, 8, 9])"
      ]
     },
     "execution_count": 3,
     "metadata": {},
     "output_type": "execute_result"
    }
   ],
   "source": [
    "arr"
   ]
  },
  {
   "cell_type": "code",
   "execution_count": 5,
   "metadata": {},
   "outputs": [
    {
     "data": {
      "text/plain": [
       "array([1.        , 1.41421356, 1.73205081, 2.        , 2.23606798,\n",
       "       2.44948974, 2.64575131, 2.82842712, 3.        ])"
      ]
     },
     "execution_count": 5,
     "metadata": {},
     "output_type": "execute_result"
    }
   ],
   "source": [
    "# sqrt array 각 성분의 제곱근 계산\n",
    "np.sqrt(arr)"
   ]
  },
  {
   "cell_type": "code",
   "execution_count": 6,
   "metadata": {},
   "outputs": [
    {
     "data": {
      "text/plain": [
       "array([0.        , 0.30103   , 0.47712125, 0.60205999, 0.69897   ,\n",
       "       0.77815125, 0.84509804, 0.90308999, 0.95424251])"
      ]
     },
     "execution_count": 6,
     "metadata": {},
     "output_type": "execute_result"
    }
   ],
   "source": [
    "np.log10(arr)"
   ]
  },
  {
   "cell_type": "code",
   "execution_count": 7,
   "metadata": {},
   "outputs": [],
   "source": [
    "x = np.random.randn(8)\n",
    "y = np.random.randn(8)"
   ]
  },
  {
   "cell_type": "code",
   "execution_count": 8,
   "metadata": {},
   "outputs": [
    {
     "data": {
      "text/plain": [
       "array([-1.99724279,  0.50200251, -1.14540942, -0.13245187,  0.58020072,\n",
       "       -0.78884422,  0.18154626, -0.2283348 ])"
      ]
     },
     "execution_count": 8,
     "metadata": {},
     "output_type": "execute_result"
    }
   ],
   "source": [
    "x"
   ]
  },
  {
   "cell_type": "code",
   "execution_count": 9,
   "metadata": {},
   "outputs": [
    {
     "data": {
      "text/plain": [
       "array([ 0.73124766, -0.84618242, -0.36286469,  1.19752526,  0.53799361,\n",
       "       -1.19961176,  0.43911639,  1.13728984])"
      ]
     },
     "execution_count": 9,
     "metadata": {},
     "output_type": "execute_result"
    }
   ],
   "source": [
    "y"
   ]
  },
  {
   "cell_type": "code",
   "execution_count": 11,
   "metadata": {},
   "outputs": [
    {
     "data": {
      "text/plain": [
       "array([ 0.73124766,  0.50200251, -0.36286469,  1.19752526,  0.58020072,\n",
       "       -0.78884422,  0.43911639,  1.13728984])"
      ]
     },
     "execution_count": 11,
     "metadata": {},
     "output_type": "execute_result"
    }
   ],
   "source": [
    "# 두 array 비교 후 각 위치에서 값이 더 큰 성분을 선택해 새로운 array로 제시\n",
    "np.maximum(x,y)"
   ]
  },
  {
   "cell_type": "code",
   "execution_count": 12,
   "metadata": {},
   "outputs": [],
   "source": [
    "z = np.random.randn(2,4)"
   ]
  },
  {
   "cell_type": "code",
   "execution_count": 13,
   "metadata": {},
   "outputs": [
    {
     "data": {
      "text/plain": [
       "array([[-1.18422527,  0.62720407,  0.71641335,  1.05670313],\n",
       "       [ 0.93927388, -1.23495188,  0.04416652,  0.799491  ]])"
      ]
     },
     "execution_count": 13,
     "metadata": {},
     "output_type": "execute_result"
    }
   ],
   "source": [
    "z"
   ]
  },
  {
   "cell_type": "code",
   "execution_count": 14,
   "metadata": {},
   "outputs": [],
   "source": [
    "# 통계함수\n",
    "arr = np.random.randn(5,4)"
   ]
  },
  {
   "cell_type": "code",
   "execution_count": 15,
   "metadata": {},
   "outputs": [
    {
     "data": {
      "text/plain": [
       "array([[-1.79280282, -0.11825352, -1.46277423,  0.53416345],\n",
       "       [-0.72600654,  1.61121593, -1.40355345,  0.29949921],\n",
       "       [-0.02321552,  0.22115727,  0.43435528, -1.4428517 ],\n",
       "       [ 0.29037265,  1.45451148, -0.68891245,  0.78027954],\n",
       "       [-0.50760602, -0.95051852, -1.29167203, -0.38647852]])"
      ]
     },
     "execution_count": 15,
     "metadata": {},
     "output_type": "execute_result"
    }
   ],
   "source": [
    "arr"
   ]
  },
  {
   "cell_type": "code",
   "execution_count": 16,
   "metadata": {},
   "outputs": [
    {
     "data": {
      "text/plain": [
       "-5.169090502837454"
      ]
     },
     "execution_count": 16,
     "metadata": {},
     "output_type": "execute_result"
    }
   ],
   "source": [
    "# array 전체 성분의 합\n",
    "arr.sum()"
   ]
  },
  {
   "cell_type": "code",
   "execution_count": 18,
   "metadata": {},
   "outputs": [
    {
     "data": {
      "text/plain": [
       "-0.2584545251418727"
      ]
     },
     "execution_count": 18,
     "metadata": {},
     "output_type": "execute_result"
    }
   ],
   "source": [
    "# 전체 성분의 평균\n",
    "arr.mean()"
   ]
  },
  {
   "cell_type": "code",
   "execution_count": 23,
   "metadata": {},
   "outputs": [
    {
     "data": {
      "text/plain": [
       "array([-2.75925826,  2.21811265, -4.41255688, -0.21538802])"
      ]
     },
     "execution_count": 23,
     "metadata": {},
     "output_type": "execute_result"
    }
   ],
   "source": [
    "# 각 열의 합 / 기존의 행 방향으로 계산\n",
    "arr.sum(axis=0)"
   ]
  },
  {
   "cell_type": "code",
   "execution_count": 24,
   "metadata": {},
   "outputs": [
    {
     "data": {
      "text/plain": [
       "array([-2.83966711, -0.21884485, -0.81055467,  1.83625122, -3.13627509])"
      ]
     },
     "execution_count": 24,
     "metadata": {},
     "output_type": "execute_result"
    }
   ],
   "source": [
    "# 각 행의 합 / 기존의 열 방향으로 계산\n",
    "arr.sum(axis=1)"
   ]
  },
  {
   "cell_type": "code",
   "execution_count": 26,
   "metadata": {},
   "outputs": [
    {
     "data": {
      "text/plain": [
       "array([[False, False, False,  True],\n",
       "       [False,  True, False,  True],\n",
       "       [False,  True,  True, False],\n",
       "       [ True,  True, False,  True],\n",
       "       [False, False, False, False]])"
      ]
     },
     "execution_count": 26,
     "metadata": {},
     "output_type": "execute_result"
    }
   ],
   "source": [
    "arr > 0  # 불리언을 통해 마스크 생성"
   ]
  },
  {
   "cell_type": "code",
   "execution_count": 31,
   "metadata": {},
   "outputs": [
    {
     "data": {
      "text/plain": [
       "8"
      ]
     },
     "execution_count": 31,
     "metadata": {},
     "output_type": "execute_result"
    }
   ],
   "source": [
    "# True 1 / False 0 으로 간주하여 계산 / 조건 만족하는 데이터의 총 개수를 산출\n",
    "(arr > 0).sum()"
   ]
  },
  {
   "cell_type": "code",
   "execution_count": null,
   "metadata": {},
   "outputs": [],
   "source": []
  },
  {
   "cell_type": "code",
   "execution_count": 32,
   "metadata": {},
   "outputs": [],
   "source": [
    "arr = np.random.randn(8)"
   ]
  },
  {
   "cell_type": "code",
   "execution_count": 33,
   "metadata": {},
   "outputs": [
    {
     "data": {
      "text/plain": [
       "array([-0.59753093,  0.9391057 ,  3.15865767,  0.32955598,  0.87609356,\n",
       "       -0.14775112, -1.12590323, -0.26438528])"
      ]
     },
     "execution_count": 33,
     "metadata": {},
     "output_type": "execute_result"
    }
   ],
   "source": [
    "arr"
   ]
  },
  {
   "cell_type": "code",
   "execution_count": 36,
   "metadata": {},
   "outputs": [
    {
     "data": {
      "text/plain": [
       "array([-1.12590323, -0.59753093, -0.26438528, -0.14775112,  0.32955598,\n",
       "        0.87609356,  0.9391057 ,  3.15865767])"
      ]
     },
     "execution_count": 36,
     "metadata": {},
     "output_type": "execute_result"
    }
   ],
   "source": [
    "# 값이 작은 것 부터 오름차순 정렬\n",
    "np.sort(arr)"
   ]
  },
  {
   "cell_type": "code",
   "execution_count": 38,
   "metadata": {},
   "outputs": [
    {
     "data": {
      "text/plain": [
       "array([ 3.15865767,  0.9391057 ,  0.87609356,  0.32955598, -0.14775112,\n",
       "       -0.26438528, -0.59753093, -1.12590323])"
      ]
     },
     "execution_count": 38,
     "metadata": {},
     "output_type": "execute_result"
    }
   ],
   "source": [
    "# 값이 큰 것부터 내림차순 / 꼼수\n",
    "np.sort(arr)[::-1]"
   ]
  },
  {
   "cell_type": "code",
   "execution_count": 46,
   "metadata": {},
   "outputs": [],
   "source": [
    "# 2차원 배열 생성\n",
    "arr = np.random.randn(6,3)"
   ]
  },
  {
   "cell_type": "code",
   "execution_count": 47,
   "metadata": {},
   "outputs": [
    {
     "data": {
      "text/plain": [
       "array([[-0.89564776,  0.31636765,  0.13007334],\n",
       "       [-0.06889746,  0.56621981,  1.88776496],\n",
       "       [-0.61481903, -1.19226451, -1.4758791 ],\n",
       "       [ 0.4009255 ,  0.40136233, -0.42749721],\n",
       "       [ 0.48114553, -0.04300665,  0.51521955],\n",
       "       [-0.32621408,  0.34843301,  0.32019289]])"
      ]
     },
     "execution_count": 47,
     "metadata": {},
     "output_type": "execute_result"
    }
   ],
   "source": [
    "arr"
   ]
  },
  {
   "cell_type": "code",
   "execution_count": 48,
   "metadata": {},
   "outputs": [
    {
     "data": {
      "text/plain": [
       "array([[-0.89564776, -1.19226451, -1.4758791 ],\n",
       "       [-0.61481903, -0.04300665, -0.42749721],\n",
       "       [-0.32621408,  0.31636765,  0.13007334],\n",
       "       [-0.06889746,  0.34843301,  0.32019289],\n",
       "       [ 0.4009255 ,  0.40136233,  0.51521955],\n",
       "       [ 0.48114553,  0.56621981,  1.88776496]])"
      ]
     },
     "execution_count": 48,
     "metadata": {},
     "output_type": "execute_result"
    }
   ],
   "source": [
    "# 행 방향 오름차순 정렬 / 열에서 오름차순( 작은 것 부터 큰 것 ) 정렬\n",
    "np.sort(arr, axis=0)"
   ]
  },
  {
   "cell_type": "code",
   "execution_count": 52,
   "metadata": {},
   "outputs": [],
   "source": [
    "# 크기가 150인 arr\n",
    "large_arr = np.random.randn(150)"
   ]
  },
  {
   "cell_type": "code",
   "execution_count": 53,
   "metadata": {},
   "outputs": [
    {
     "data": {
      "text/plain": [
       "array([ 0.90013388, -0.30012931, -0.4974812 ,  0.3595833 ,  1.70058955,\n",
       "        0.22068635,  0.40278731, -0.06432429,  0.0082027 ,  0.2170367 ,\n",
       "        0.24987989, -1.0086518 , -0.03123168,  0.34426616, -0.65349319,\n",
       "       -0.61754454, -0.13830983, -0.46627162, -0.90603739,  1.53184004,\n",
       "        1.58276422,  1.10200396, -0.17041006,  0.90502927,  0.00679818,\n",
       "       -0.2295756 , -0.94470919,  1.08052251,  0.3337283 , -1.65078425,\n",
       "       -0.23489026,  0.3135538 , -1.03011163,  1.00850071,  1.93849673,\n",
       "       -0.69675876, -0.70089904, -0.66719383,  0.77854551, -0.0706922 ,\n",
       "        0.66544149,  0.52149126, -1.46480422, -0.42224102,  0.9644034 ,\n",
       "        0.88852064,  1.57787851,  0.94999989,  0.76370848,  1.84641596,\n",
       "        0.80324404, -0.01215137, -0.46153886,  0.52942648, -0.77331503,\n",
       "        0.63198979, -1.45711703, -1.52320519, -0.3758528 ,  0.1839649 ,\n",
       "       -2.51628663, -0.04647057, -1.19789698,  0.34565656,  0.68284274,\n",
       "       -0.88353444, -1.56268514, -1.31208457,  1.49417595,  1.44806038,\n",
       "        1.75725021, -2.399505  , -0.95869536,  0.64092258,  1.24151107,\n",
       "        1.14913047,  1.13864661,  1.61791305, -0.11135119, -1.84849534,\n",
       "        0.85604303,  2.29109998, -0.44789182, -0.89062791, -0.88430209,\n",
       "       -0.17547813,  0.67147081, -0.89441796, -0.35551854,  0.61718272,\n",
       "        0.80567188,  0.27101101, -0.34289812,  0.10683878, -2.01474043,\n",
       "       -0.01416243,  0.29723007, -0.58550942, -1.44942931,  0.1459807 ,\n",
       "       -0.92967273,  0.93221038, -0.87828548,  0.71856175,  0.48699982,\n",
       "       -0.69311771,  2.44706792, -0.55637565, -0.44673813,  1.34979835,\n",
       "       -0.47231428, -1.5042302 ,  2.27753039, -0.81502833, -1.04917911,\n",
       "       -0.40850158, -0.87526757,  0.95485047, -1.24992578,  0.8602168 ,\n",
       "        0.23623456,  0.18646731,  0.26229489,  0.53405024, -0.67752716,\n",
       "        0.08940524, -0.12933113,  0.65759557, -0.18621744,  0.69455156,\n",
       "        1.04244401, -1.59830226,  1.25121944, -0.0459127 ,  0.87216349,\n",
       "        1.68432868, -0.50552685,  0.18429945, -0.1265398 , -0.82126343,\n",
       "       -0.39504652, -1.41264047, -0.28298094, -0.44395636,  2.09575345,\n",
       "       -0.15942559,  0.42705765, -0.240897  ,  1.11780198, -0.34360243])"
      ]
     },
     "execution_count": 53,
     "metadata": {},
     "output_type": "execute_result"
    }
   ],
   "source": [
    "large_arr"
   ]
  },
  {
   "cell_type": "code",
   "execution_count": 56,
   "metadata": {},
   "outputs": [
    {
     "data": {
      "text/plain": [
       "array([ 2.44706792,  2.29109998,  2.27753039,  2.09575345,  1.93849673,\n",
       "        1.84641596,  1.75725021,  1.70058955,  1.68432868,  1.61791305,\n",
       "        1.58276422,  1.57787851,  1.53184004,  1.49417595,  1.44806038,\n",
       "        1.34979835,  1.25121944,  1.24151107,  1.14913047,  1.13864661,\n",
       "        1.11780198,  1.10200396,  1.08052251,  1.04244401,  1.00850071,\n",
       "        0.9644034 ,  0.95485047,  0.94999989,  0.93221038,  0.90502927,\n",
       "        0.90013388,  0.88852064,  0.87216349,  0.8602168 ,  0.85604303,\n",
       "        0.80567188,  0.80324404,  0.77854551,  0.76370848,  0.71856175,\n",
       "        0.69455156,  0.68284274,  0.67147081,  0.66544149,  0.65759557,\n",
       "        0.64092258,  0.63198979,  0.61718272,  0.53405024,  0.52942648,\n",
       "        0.52149126,  0.48699982,  0.42705765,  0.40278731,  0.3595833 ,\n",
       "        0.34565656,  0.34426616,  0.3337283 ,  0.3135538 ,  0.29723007,\n",
       "        0.27101101,  0.26229489,  0.24987989,  0.23623456,  0.22068635,\n",
       "        0.2170367 ,  0.18646731,  0.18429945,  0.1839649 ,  0.1459807 ,\n",
       "        0.10683878,  0.08940524,  0.0082027 ,  0.00679818, -0.01215137,\n",
       "       -0.01416243, -0.03123168, -0.0459127 , -0.04647057, -0.06432429,\n",
       "       -0.0706922 , -0.11135119, -0.1265398 , -0.12933113, -0.13830983,\n",
       "       -0.15942559, -0.17041006, -0.17547813, -0.18621744, -0.2295756 ,\n",
       "       -0.23489026, -0.240897  , -0.28298094, -0.30012931, -0.34289812,\n",
       "       -0.34360243, -0.35551854, -0.3758528 , -0.39504652, -0.40850158,\n",
       "       -0.42224102, -0.44395636, -0.44673813, -0.44789182, -0.46153886,\n",
       "       -0.46627162, -0.47231428, -0.4974812 , -0.50552685, -0.55637565,\n",
       "       -0.58550942, -0.61754454, -0.65349319, -0.66719383, -0.67752716,\n",
       "       -0.69311771, -0.69675876, -0.70089904, -0.77331503, -0.81502833,\n",
       "       -0.82126343, -0.87526757, -0.87828548, -0.88353444, -0.88430209,\n",
       "       -0.89062791, -0.89441796, -0.90603739, -0.92967273, -0.94470919,\n",
       "       -0.95869536, -1.0086518 , -1.03011163, -1.04917911, -1.19789698,\n",
       "       -1.24992578, -1.31208457, -1.41264047, -1.44942931, -1.45711703,\n",
       "       -1.46480422, -1.5042302 , -1.52320519, -1.56268514, -1.59830226,\n",
       "       -1.65078425, -1.84849534, -2.01474043, -2.399505  , -2.51628663])"
      ]
     },
     "execution_count": 56,
     "metadata": {},
     "output_type": "execute_result"
    }
   ],
   "source": [
    "# 내림차순 정렬\n",
    "np.sort(large_arr)[::-1]"
   ]
  },
  {
   "cell_type": "code",
   "execution_count": 58,
   "metadata": {},
   "outputs": [
    {
     "data": {
      "text/plain": [
       "2.447067921137631"
      ]
     },
     "execution_count": 58,
     "metadata": {},
     "output_type": "execute_result"
    }
   ],
   "source": [
    "# 상위 5%에 해당하는 index 얻기\n",
    "np.sort(large_arr)[::-1][int(0.05) * len(large_arr)]"
   ]
  },
  {
   "cell_type": "code",
   "execution_count": 60,
   "metadata": {},
   "outputs": [],
   "source": [
    "# unique 중복된 값 제거"
   ]
  },
  {
   "cell_type": "code",
   "execution_count": null,
   "metadata": {},
   "outputs": [],
   "source": []
  }
 ],
 "metadata": {
  "kernelspec": {
   "display_name": "Python 3",
   "language": "python",
   "name": "python3"
  },
  "language_info": {
   "codemirror_mode": {
    "name": "ipython",
    "version": 3
   },
   "file_extension": ".py",
   "mimetype": "text/x-python",
   "name": "python",
   "nbconvert_exporter": "python",
   "pygments_lexer": "ipython3",
   "version": "3.7.3"
  }
 },
 "nbformat": 4,
 "nbformat_minor": 2
}
